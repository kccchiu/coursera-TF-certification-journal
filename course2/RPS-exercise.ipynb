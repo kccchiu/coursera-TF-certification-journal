{
 "cells": [
  {
   "cell_type": "code",
   "execution_count": 1,
   "id": "1d57917f",
   "metadata": {},
   "outputs": [
    {
     "name": "stderr",
     "output_type": "stream",
     "text": [
      "2023-01-01 13:11:30.019777: I tensorflow/stream_executor/cuda/cuda_gpu_executor.cc:939] successful NUMA node read from SysFS had negative value (-1), but there must be at least one NUMA node, so returning NUMA node zero\n",
      "2023-01-01 13:11:30.035583: I tensorflow/stream_executor/cuda/cuda_gpu_executor.cc:939] successful NUMA node read from SysFS had negative value (-1), but there must be at least one NUMA node, so returning NUMA node zero\n",
      "2023-01-01 13:11:30.036453: I tensorflow/stream_executor/cuda/cuda_gpu_executor.cc:939] successful NUMA node read from SysFS had negative value (-1), but there must be at least one NUMA node, so returning NUMA node zero\n"
     ]
    }
   ],
   "source": [
    "import sys\n",
    "sys.path.append('../../TF-coursera/')\n",
    "\n",
    "from vlimit import *\n",
    "vram_limit()"
   ]
  },
  {
   "cell_type": "code",
   "execution_count": 2,
   "id": "4a014a7c",
   "metadata": {},
   "outputs": [],
   "source": [
    "import os\n",
    "import zipfile\n",
    "import random\n",
    "import shutil\n",
    "from tensorflow.keras import layers\n",
    "from tensorflow.keras import Model\n",
    "import tensorflow as tf\n",
    "from tensorflow.keras.preprocessing.image import ImageDataGenerator\n",
    "from shutil import copyfile\n",
    "import matplotlib.pyplot as plt"
   ]
  },
  {
   "cell_type": "code",
   "execution_count": 3,
   "id": "10bc76be",
   "metadata": {},
   "outputs": [],
   "source": [
    "TRAINING_DIR = 'rps-train/rps'\n",
    "TESTING_DIR = 'rps-test/rps-test-set'"
   ]
  },
  {
   "cell_type": "code",
   "execution_count": 4,
   "id": "7bed4a9d",
   "metadata": {},
   "outputs": [],
   "source": [
    "# GRADED FUNCTION: train_val_generators\n",
    "def train_val_generators(TRAINING_DIR, VALIDATION_DIR):\n",
    "  \"\"\"\n",
    "  Creates the training and validation data generators\n",
    "  \n",
    "  Args:\n",
    "    TRAINING_DIR (string): directory path containing the training images\n",
    "    VALIDATION_DIR (string): directory path containing the testing/validation images\n",
    "    \n",
    "  Returns:\n",
    "    train_generator, validation_generator - tuple containing the generators\n",
    "  \"\"\"\n",
    "  ### START CODE HERE\n",
    "\n",
    "  # Instantiate the ImageDataGenerator class (don't forget to set the rescale argument)\n",
    "  train_datagen = ImageDataGenerator(\n",
    "                                  rescale=1./255,\n",
    "                                  rotation_range=40,\n",
    "                                  width_shift_range=0.2,\n",
    "                                  height_shift_range=0.2,\n",
    "                                  shear_range=0.2,\n",
    "                                  zoom_range=0.2,\n",
    "                                  horizontal_flip=True,\n",
    "                                  fill_mode='nearest')\n",
    "\n",
    "  # Pass in the appropiate arguments to the flow_from_directory method\n",
    "  train_generator = train_datagen.flow_from_directory(directory=TRAINING_DIR,\n",
    "                                                      batch_size=128,\n",
    "                                                      color_mode='rgb',\n",
    "                                                      class_mode='categorical',\n",
    "                                                      target_size=(150, 150))\n",
    "\n",
    "  # Instantiate the ImageDataGenerator class (don't forget to set the rescale argument)\n",
    "  validation_datagen = ImageDataGenerator(rescale=1/255.0)\n",
    "\n",
    "  # Pass in the appropiate arguments to the flow_from_directory method\n",
    "  validation_generator = validation_datagen.flow_from_directory(directory=VALIDATION_DIR,\n",
    "                                                                batch_size=128,\n",
    "                                                                color_mode='rgb',\n",
    "                                                                class_mode='categorical',\n",
    "                                                                target_size=(150, 150))\n",
    "  ### END CODE HERE\n",
    "  return train_generator, validation_generator\n"
   ]
  },
  {
   "cell_type": "code",
   "execution_count": 5,
   "id": "3d0525b0",
   "metadata": {},
   "outputs": [
    {
     "name": "stdout",
     "output_type": "stream",
     "text": [
      "Found 2520 images belonging to 3 classes.\n",
      "Found 372 images belonging to 3 classes.\n"
     ]
    }
   ],
   "source": [
    "# Test your generators\n",
    "train_generator, validation_generator = train_val_generators(TRAINING_DIR, TESTING_DIR)"
   ]
  },
  {
   "cell_type": "markdown",
   "id": "4a8ea6fa",
   "metadata": {},
   "source": [
    "### Add per-trained model"
   ]
  },
  {
   "cell_type": "code",
   "execution_count": 6,
   "id": "1d5b6bb5",
   "metadata": {},
   "outputs": [],
   "source": [
    "import tensorflow_datasets as tfds\n",
    "from tensorflow.keras.utils import to_categorical\n",
    "from tensorflow.keras.applications.vgg16 import VGG16\n",
    "from tensorflow.keras.applications.vgg16 import preprocess_input"
   ]
  },
  {
   "cell_type": "code",
   "execution_count": 22,
   "id": "085da62b",
   "metadata": {},
   "outputs": [],
   "source": [
    "## Loading VGG16 model\n",
    "pre_trained_model = VGG16(weights=\"imagenet\",\n",
    "                           include_top=False, \n",
    "                           input_shape=(150, 150, 3)\n",
    "                              )\n",
    "for layer in pre_trained_model.layers:\n",
    "    layer.trainable = False\n"
   ]
  },
  {
   "cell_type": "code",
   "execution_count": 8,
   "id": "fe8f342a",
   "metadata": {},
   "outputs": [
    {
     "name": "stdout",
     "output_type": "stream",
     "text": [
      "There are 14,714,688 total parameters in this model.\n",
      "There are 0 trainable parameters in this model.\n"
     ]
    }
   ],
   "source": [
    "total_params = pre_trained_model.count_params()\n",
    "num_trainable_params = sum([w.shape.num_elements() for w in pre_trained_model.trainable_weights])\n",
    "\n",
    "print(f\"There are {total_params:,} total parameters in this model.\")\n",
    "print(f\"There are {num_trainable_params:,} trainable parameters in this model.\")"
   ]
  },
  {
   "cell_type": "code",
   "execution_count": 18,
   "id": "9e812660",
   "metadata": {},
   "outputs": [
    {
     "name": "stdout",
     "output_type": "stream",
     "text": [
      "Model: \"vgg16\"\n",
      "_________________________________________________________________\n",
      " Layer (type)                Output Shape              Param #   \n",
      "=================================================================\n",
      " input_1 (InputLayer)        [(None, 150, 150, 3)]     0         \n",
      "                                                                 \n",
      " block1_conv1 (Conv2D)       (None, 150, 150, 64)      1792      \n",
      "                                                                 \n",
      " block1_conv2 (Conv2D)       (None, 150, 150, 64)      36928     \n",
      "                                                                 \n",
      " block1_pool (MaxPooling2D)  (None, 75, 75, 64)        0         \n",
      "                                                                 \n",
      " block2_conv1 (Conv2D)       (None, 75, 75, 128)       73856     \n",
      "                                                                 \n",
      " block2_conv2 (Conv2D)       (None, 75, 75, 128)       147584    \n",
      "                                                                 \n",
      " block2_pool (MaxPooling2D)  (None, 37, 37, 128)       0         \n",
      "                                                                 \n",
      " block3_conv1 (Conv2D)       (None, 37, 37, 256)       295168    \n",
      "                                                                 \n",
      " block3_conv2 (Conv2D)       (None, 37, 37, 256)       590080    \n",
      "                                                                 \n",
      " block3_conv3 (Conv2D)       (None, 37, 37, 256)       590080    \n",
      "                                                                 \n",
      " block3_pool (MaxPooling2D)  (None, 18, 18, 256)       0         \n",
      "                                                                 \n",
      " block4_conv1 (Conv2D)       (None, 18, 18, 512)       1180160   \n",
      "                                                                 \n",
      " block4_conv2 (Conv2D)       (None, 18, 18, 512)       2359808   \n",
      "                                                                 \n",
      " block4_conv3 (Conv2D)       (None, 18, 18, 512)       2359808   \n",
      "                                                                 \n",
      " block4_pool (MaxPooling2D)  (None, 9, 9, 512)         0         \n",
      "                                                                 \n",
      " block5_conv1 (Conv2D)       (None, 9, 9, 512)         2359808   \n",
      "                                                                 \n",
      " block5_conv2 (Conv2D)       (None, 9, 9, 512)         2359808   \n",
      "                                                                 \n",
      " block5_conv3 (Conv2D)       (None, 9, 9, 512)         2359808   \n",
      "                                                                 \n",
      " block5_pool (MaxPooling2D)  (None, 4, 4, 512)         0         \n",
      "                                                                 \n",
      "=================================================================\n",
      "Total params: 14,714,688\n",
      "Trainable params: 0\n",
      "Non-trainable params: 14,714,688\n",
      "_________________________________________________________________\n"
     ]
    }
   ],
   "source": [
    "pre_trained_model.summary()"
   ]
  },
  {
   "cell_type": "code",
   "execution_count": 24,
   "id": "3b68f0c7",
   "metadata": {},
   "outputs": [],
   "source": [
    "# GRADED FUNCTION: output_of_last_layer\n",
    "def output_of_last_layer(pre_trained_model):\n",
    "    \"\"\"\n",
    "    Gets the last layer output of a model\n",
    "\n",
    "    Args:\n",
    "    pre_trained_model (tf.keras Model): model to get the last layer output from\n",
    "\n",
    "    Returns:\n",
    "    last_output: output of the model's last layer \n",
    "    \"\"\"\n",
    "    ### START CODE HERE\n",
    "    last_desired_layer = pre_trained_model.get_layer('block4_pool')\n",
    "    print('last layer output shape: ', last_desired_layer.output_shape)\n",
    "    last_output = last_desired_layer.output\n",
    "    print('last layer output: ', last_output)\n",
    "    ### END CODE HERE\n",
    "\n",
    "    return last_output\n"
   ]
  },
  {
   "cell_type": "code",
   "execution_count": 25,
   "id": "0c085608",
   "metadata": {},
   "outputs": [
    {
     "name": "stdout",
     "output_type": "stream",
     "text": [
      "last layer output shape:  (None, 9, 9, 512)\n",
      "last layer output:  KerasTensor(type_spec=TensorSpec(shape=(None, 9, 9, 512), dtype=tf.float32, name=None), name='block4_pool/MaxPool:0', description=\"created by layer 'block4_pool'\")\n"
     ]
    },
    {
     "data": {
      "text/plain": [
       "<KerasTensor: shape=(None, 9, 9, 512) dtype=float32 (created by layer 'block4_pool')>"
      ]
     },
     "execution_count": 25,
     "metadata": {},
     "output_type": "execute_result"
    }
   ],
   "source": [
    "last_output = output_of_last_layer(pre_trained_model)\n",
    "last_output"
   ]
  },
  {
   "cell_type": "code",
   "execution_count": 26,
   "id": "3cf83b21",
   "metadata": {},
   "outputs": [
    {
     "name": "stdout",
     "output_type": "stream",
     "text": [
      "The pretrained model has type: <class 'keras.engine.functional.Functional'>\n"
     ]
    }
   ],
   "source": [
    "# Print the type of the pre-trained model\n",
    "print(f\"The pretrained model has type: {type(pre_trained_model)}\")"
   ]
  },
  {
   "cell_type": "code",
   "execution_count": 29,
   "id": "2a074a34",
   "metadata": {},
   "outputs": [],
   "source": [
    "# GRADED FUNCTION: create_final_model\n",
    "def create_final_model(pre_trained_model, last_output):\n",
    "    \"\"\"\n",
    "    Appends a custom model to a pre-trained model\n",
    "\n",
    "    Args:\n",
    "    pre_trained_model (tf.keras Model): model that will accept the train/test inputs\n",
    "    last_output (tensor): last layer output of the pre-trained model\n",
    "\n",
    "    Returns:\n",
    "    model: the combined model\n",
    "    \"\"\"\n",
    "    # Flatten the output layer to 1 dimension\n",
    "    x = layers.Flatten()(last_output)\n",
    "    \n",
    "#     Add a fully connected layer with 1024 hidden units and ReLU activation\n",
    "    x = layers.Dense(1024, activation='relu')(x)\n",
    "    # Add a dropout rate of 0.2\n",
    "    x = layers.Dropout(0.2)(x)\n",
    "    \n",
    "    x = layers.Dense(3, activation='softmax')(x)\n",
    "\n",
    "    # Create the complete model by using the Model class\n",
    "    model = Model(inputs=pre_trained_model.input, outputs=x)\n",
    "\n",
    "    # Compile the model\n",
    "    model.compile(optimizer='adam',\n",
    "                loss='categorical_crossentropy',\n",
    "                metrics=['accuracy'])\n",
    "\n",
    "    ### END CODE HERE\n",
    "\n",
    "    return model\n"
   ]
  },
  {
   "cell_type": "code",
   "execution_count": 30,
   "id": "c990656a",
   "metadata": {},
   "outputs": [
    {
     "name": "stdout",
     "output_type": "stream",
     "text": [
      "There are 50,106,691 total parameters in this model.\n",
      "There are 42,471,427 trainable parameters in this model.\n"
     ]
    }
   ],
   "source": [
    "# Save your model in a variable\n",
    "model = create_final_model(pre_trained_model, last_output)\n",
    "\n",
    "# Inspect parameters\n",
    "total_params = model.count_params()\n",
    "num_trainable_params = sum([w.shape.num_elements() for w in model.trainable_weights])\n",
    "\n",
    "print(f\"There are {total_params:,} total parameters in this model.\")\n",
    "print(f\"There are {num_trainable_params:,} trainable parameters in this model.\")"
   ]
  },
  {
   "cell_type": "code",
   "execution_count": 26,
   "id": "66d54eb6",
   "metadata": {},
   "outputs": [],
   "source": [
    "# # GRADED FUNCTION: create_model\n",
    "# def create_model():\n",
    "#   # DEFINE A KERAS MODEL TO CLASSIFY CATS V DOGS\n",
    "#   # USE AT LEAST 3 CONVOLUTION LAYERS\n",
    "\n",
    "#   ### START CODE HERE\n",
    "\n",
    "#     model = tf.keras.Sequential([\n",
    "#     tf.keras.layers.Conv2D(32, (3, 3), activation='relu', input_shape=(150, 150, 3)),\n",
    "#     tf.keras.layers.MaxPooling2D(2, 2),\n",
    "#     tf.keras.layers.Conv2D(64, (3, 3), activation='relu'),\n",
    "#     tf.keras.layers.MaxPooling2D(2, 2),\n",
    "#     tf.keras.layers.Conv2D(64, (3, 3), activation='relu'),\n",
    "#     tf.keras.layers.MaxPooling2D(2, 2),\n",
    "#     tf.keras.layers.Conv2D(128, (3, 3), activation='relu'),\n",
    "#     tf.keras.layers.MaxPooling2D(2, 2),\n",
    "#     tf.keras.layers.Flatten(),\n",
    "#     tf.keras.layers.Dropout(0.4),\n",
    "#     tf.keras.layers.Dense(512, activation='relu'),\n",
    "#     tf.keras.layers.Dense(3, activation='softmax')\n",
    "#     ])\n",
    "\n",
    "\n",
    "\n",
    "#     model.compile(optimizer='adam',\n",
    "#                 loss='categorical_crossentropy',\n",
    "#                 metrics=['accuracy'])\n",
    "#   ### END CODE HERE\n",
    "\n",
    "#     return model\n"
   ]
  },
  {
   "cell_type": "code",
   "execution_count": 34,
   "id": "8e6807b8",
   "metadata": {},
   "outputs": [
    {
     "name": "stdout",
     "output_type": "stream",
     "text": [
      "Model: \"model_5\"\n",
      "_________________________________________________________________\n",
      " Layer (type)                Output Shape              Param #   \n",
      "=================================================================\n",
      " input_2 (InputLayer)        [(None, 150, 150, 3)]     0         \n",
      "                                                                 \n",
      " block1_conv1 (Conv2D)       (None, 150, 150, 64)      1792      \n",
      "                                                                 \n",
      " block1_conv2 (Conv2D)       (None, 150, 150, 64)      36928     \n",
      "                                                                 \n",
      " block1_pool (MaxPooling2D)  (None, 75, 75, 64)        0         \n",
      "                                                                 \n",
      " block2_conv1 (Conv2D)       (None, 75, 75, 128)       73856     \n",
      "                                                                 \n",
      " block2_conv2 (Conv2D)       (None, 75, 75, 128)       147584    \n",
      "                                                                 \n",
      " block2_pool (MaxPooling2D)  (None, 37, 37, 128)       0         \n",
      "                                                                 \n",
      " block3_conv1 (Conv2D)       (None, 37, 37, 256)       295168    \n",
      "                                                                 \n",
      " block3_conv2 (Conv2D)       (None, 37, 37, 256)       590080    \n",
      "                                                                 \n",
      " block3_conv3 (Conv2D)       (None, 37, 37, 256)       590080    \n",
      "                                                                 \n",
      " block3_pool (MaxPooling2D)  (None, 18, 18, 256)       0         \n",
      "                                                                 \n",
      " block4_conv1 (Conv2D)       (None, 18, 18, 512)       1180160   \n",
      "                                                                 \n",
      " block4_conv2 (Conv2D)       (None, 18, 18, 512)       2359808   \n",
      "                                                                 \n",
      " block4_conv3 (Conv2D)       (None, 18, 18, 512)       2359808   \n",
      "                                                                 \n",
      " block4_pool (MaxPooling2D)  (None, 9, 9, 512)         0         \n",
      "                                                                 \n",
      " flatten_2 (Flatten)         (None, 41472)             0         \n",
      "                                                                 \n",
      " dense_7 (Dense)             (None, 1024)              42468352  \n",
      "                                                                 \n",
      " dropout_2 (Dropout)         (None, 1024)              0         \n",
      "                                                                 \n",
      " dense_8 (Dense)             (None, 3)                 3075      \n",
      "                                                                 \n",
      "=================================================================\n",
      "Total params: 50,106,691\n",
      "Trainable params: 42,471,427\n",
      "Non-trainable params: 7,635,264\n",
      "_________________________________________________________________\n"
     ]
    }
   ],
   "source": [
    "model.summary()"
   ]
  },
  {
   "cell_type": "code",
   "execution_count": 35,
   "id": "d3844605",
   "metadata": {},
   "outputs": [
    {
     "name": "stdout",
     "output_type": "stream",
     "text": [
      "Epoch 1/15\n",
      " 5/20 [======>.......................] - ETA: 7s - loss: 101.5171 - accuracy: 0.3625"
     ]
    },
    {
     "name": "stderr",
     "output_type": "stream",
     "text": [
      "2023-01-01 13:22:27.939716: W tensorflow/core/common_runtime/bfc_allocator.cc:275] Allocator (GPU_0_bfc) ran out of memory trying to allocate 2.79GiB with freed_by_count=0. The caller indicates that this is not a failure, but may mean that there could be performance gains if more memory were available.\n",
      "2023-01-01 13:22:27.939751: W tensorflow/core/common_runtime/bfc_allocator.cc:275] Allocator (GPU_0_bfc) ran out of memory trying to allocate 2.79GiB with freed_by_count=0. The caller indicates that this is not a failure, but may mean that there could be performance gains if more memory were available.\n",
      "2023-01-01 13:22:28.066121: W tensorflow/core/common_runtime/bfc_allocator.cc:275] Allocator (GPU_0_bfc) ran out of memory trying to allocate 2.40GiB with freed_by_count=0. The caller indicates that this is not a failure, but may mean that there could be performance gains if more memory were available.\n"
     ]
    },
    {
     "name": "stdout",
     "output_type": "stream",
     "text": [
      "20/20 [==============================] - 15s 744ms/step - loss: 34.1702 - accuracy: 0.4476 - val_loss: 2.1000 - val_accuracy: 0.6532\n",
      "Epoch 2/15\n",
      "20/20 [==============================] - 10s 494ms/step - loss: 0.9129 - accuracy: 0.7575 - val_loss: 0.2680 - val_accuracy: 0.8360\n",
      "Epoch 3/15\n",
      "20/20 [==============================] - 10s 493ms/step - loss: 0.2852 - accuracy: 0.9071 - val_loss: 0.1559 - val_accuracy: 0.9382\n",
      "Epoch 4/15\n",
      "20/20 [==============================] - 10s 494ms/step - loss: 0.1530 - accuracy: 0.9504 - val_loss: 0.1330 - val_accuracy: 0.9301\n",
      "Epoch 5/15\n",
      "20/20 [==============================] - 10s 494ms/step - loss: 0.1259 - accuracy: 0.9579 - val_loss: 0.1880 - val_accuracy: 0.9005\n",
      "Epoch 6/15\n",
      "20/20 [==============================] - 10s 493ms/step - loss: 0.0775 - accuracy: 0.9762 - val_loss: 0.1781 - val_accuracy: 0.9059\n",
      "Epoch 7/15\n",
      "20/20 [==============================] - 10s 495ms/step - loss: 0.0745 - accuracy: 0.9742 - val_loss: 0.2148 - val_accuracy: 0.8629\n",
      "Epoch 8/15\n",
      "20/20 [==============================] - 10s 495ms/step - loss: 0.0728 - accuracy: 0.9738 - val_loss: 0.0755 - val_accuracy: 0.9651\n",
      "Epoch 9/15\n",
      "20/20 [==============================] - 10s 492ms/step - loss: 0.0589 - accuracy: 0.9806 - val_loss: 0.1694 - val_accuracy: 0.9489\n",
      "Epoch 10/15\n",
      "20/20 [==============================] - 10s 496ms/step - loss: 0.0465 - accuracy: 0.9869 - val_loss: 0.1215 - val_accuracy: 0.9274\n",
      "Epoch 11/15\n",
      "20/20 [==============================] - 10s 491ms/step - loss: 0.0399 - accuracy: 0.9885 - val_loss: 0.1507 - val_accuracy: 0.9409\n",
      "Epoch 12/15\n",
      "20/20 [==============================] - 10s 494ms/step - loss: 0.0408 - accuracy: 0.9909 - val_loss: 0.1641 - val_accuracy: 0.9435\n",
      "Epoch 13/15\n",
      "20/20 [==============================] - 10s 494ms/step - loss: 0.0384 - accuracy: 0.9893 - val_loss: 0.3753 - val_accuracy: 0.8898\n",
      "Epoch 14/15\n",
      "20/20 [==============================] - 10s 492ms/step - loss: 0.0298 - accuracy: 0.9929 - val_loss: 0.2815 - val_accuracy: 0.8978\n",
      "Epoch 15/15\n",
      "20/20 [==============================] - 10s 493ms/step - loss: 0.0265 - accuracy: 0.9917 - val_loss: 0.3852 - val_accuracy: 0.8952\n"
     ]
    }
   ],
   "source": [
    "# Get the untrained model\n",
    "model = create_final_model(pre_trained_model, last_output)\n",
    "\n",
    "# Train the model\n",
    "# Note that this may take some time.\n",
    "history = model.fit(train_generator,\n",
    "                    epochs=15,\n",
    "                    verbose=1,\n",
    "                    validation_data=validation_generator)"
   ]
  },
  {
   "cell_type": "code",
   "execution_count": 36,
   "id": "e87285e5",
   "metadata": {},
   "outputs": [
    {
     "data": {
      "image/png": "[encoded data removed]",
      "text/plain": [
       "<Figure size 432x288 with 1 Axes>"
      ]
     },
     "metadata": {
      "needs_background": "light"
     },
     "output_type": "display_data"
    },
    {
     "name": "stdout",
     "output_type": "stream",
     "text": [
      "\n"
     ]
    },
    {
     "data": {
      "image/png": "[encoded data removed]",
      "text/plain": [
       "<Figure size 432x288 with 1 Axes>"
      ]
     },
     "metadata": {
      "needs_background": "light"
     },
     "output_type": "display_data"
    }
   ],
   "source": [
    "#-----------------------------------------------------------\n",
    "# Retrieve a list of list results on training and test data\n",
    "# sets for each training epoch\n",
    "#-----------------------------------------------------------\n",
    "acc=history.history['accuracy']\n",
    "val_acc=history.history['val_accuracy']\n",
    "loss=history.history['loss']\n",
    "val_loss=history.history['val_loss']\n",
    "\n",
    "epochs=range(len(acc)) # Get number of epochs\n",
    "\n",
    "#------------------------------------------------\n",
    "# Plot training and validation accuracy per epoch\n",
    "#------------------------------------------------\n",
    "plt.plot(epochs, acc, 'r', \"Training Accuracy\")\n",
    "plt.plot(epochs, val_acc, 'b', \"Validation Accuracy\")\n",
    "plt.title('Training and validation accuracy')\n",
    "plt.show()\n",
    "print(\"\")\n",
    "\n",
    "#------------------------------------------------\n",
    "# Plot training and validation loss per epoch\n",
    "#------------------------------------------------\n",
    "plt.plot(epochs, loss, 'r', \"Training Loss\")\n",
    "plt.plot(epochs, val_loss, 'b', \"Validation Loss\")\n",
    "plt.show()"
   ]
  },
  {
   "cell_type": "code",
   "execution_count": null,
   "id": "83ccdb1d",
   "metadata": {},
   "outputs": [],
   "source": []
  },
  {
   "cell_type": "code",
   "execution_count": null,
   "id": "7871bd64",
   "metadata": {},
   "outputs": [],
   "source": []
  },
  {
   "cell_type": "code",
   "execution_count": null,
   "id": "519b25ab",
   "metadata": {},
   "outputs": [],
   "source": []
  },
  {
   "cell_type": "code",
   "execution_count": null,
   "id": "11ce0c7b",
   "metadata": {},
   "outputs": [],
   "source": []
  },
  {
   "cell_type": "code",
   "execution_count": null,
   "id": "33b3b63a",
   "metadata": {},
   "outputs": [],
   "source": []
  }
 ],
 "metadata": {
  "kernelspec": {
   "display_name": "Python 3 (ipykernel)",
   "language": "python",
   "name": "python3"
  },
  "language_info": {
   "codemirror_mode": {
    "name": "ipython",
    "version": 3
   },
   "file_extension": ".py",
   "mimetype": "text/x-python",
   "name": "python",
   "nbconvert_exporter": "python",
   "pygments_lexer": "ipython3",
   "version": "3.8.10"
  }
 },
 "nbformat": 4,
 "nbformat_minor": 5
}
