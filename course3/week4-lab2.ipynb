{
 "cells": [
  {
   "cell_type": "markdown",
   "id": "8dd27474",
   "metadata": {},
   "source": [
    "This lab train on larger corpus compare to last lab"
   ]
  },
  {
   "cell_type": "code",
   "execution_count": 1,
   "id": "ca98f799",
   "metadata": {},
   "outputs": [],
   "source": [
    "import tensorflow as tf\n",
    "import numpy as np \n",
    "\n",
    "from tensorflow.keras.preprocessing.sequence import pad_sequences\n",
    "from tensorflow.keras.layers import Embedding, LSTM, Dense, Bidirectional\n",
    "from tensorflow.keras.preprocessing.text import Tokenizer\n",
    "from tensorflow.keras.models import Sequential\n",
    "from tensorflow.keras.optimizers import Adam"
   ]
  },
  {
   "cell_type": "code",
   "execution_count": 6,
   "id": "4fed645f",
   "metadata": {},
   "outputs": [
    {
     "name": "stdout",
     "output_type": "stream",
     "text": [
      "--2023-01-08 22:53:59--  https://storage.googleapis.com/tensorflow-1-public/course3/irish-lyrics-eof.txt\n",
      "Resolving storage.googleapis.com (storage.googleapis.com)... 142.251.35.208, 142.251.32.176, 142.250.68.144, ...\n",
      "Connecting to storage.googleapis.com (storage.googleapis.com)|142.251.35.208|:443... connected.\n",
      "HTTP request sent, awaiting response... 200 OK\n",
      "Length: 68970 (67K) [text/plain]\n",
      "Saving to: ‘irish-lyrics-eof.txt.2’\n",
      "\n",
      "irish-lyrics-eof.tx 100%[===================>]  67.35K  --.-KB/s    in 0.03s   \n",
      "\n",
      "2023-01-08 22:53:59 (1.93 MB/s) - ‘irish-lyrics-eof.txt.2’ saved [68970/68970]\n",
      "\n"
     ]
    }
   ],
   "source": [
    "# Download the dataset\n",
    "!wget https://storage.googleapis.com/tensorflow-1-public/course3/irish-lyrics-eof.txt"
   ]
  },
  {
   "cell_type": "code",
   "execution_count": 7,
   "id": "f277899d",
   "metadata": {},
   "outputs": [
    {
     "name": "stdout",
     "output_type": "stream",
     "text": [
      "['come all ye maidens young and fair', 'and you that are blooming in your prime', 'always beware and keep your garden fair', 'let no man steal away your thyme', 'for thyme it is a precious thing']\n",
      "1693\n"
     ]
    }
   ],
   "source": [
    "# Load the dataset\n",
    "data = open('irish-lyrics-eof.txt').read()\n",
    "\n",
    "# Lowercase and split the text\n",
    "corpus = data.lower().split(\"\\n\")\n",
    "\n",
    "# Preview the result\n",
    "print(corpus[:5])\n",
    "print(len(corpus))"
   ]
  },
  {
   "cell_type": "code",
   "execution_count": 8,
   "id": "8c0bcb7a",
   "metadata": {},
   "outputs": [
    {
     "name": "stdout",
     "output_type": "stream",
     "text": [
      "{'the': 1, 'and': 2, 'i': 3, 'to': 4, 'a': 5, 'of': 6, 'my': 7, 'in': 8, 'me': 9, 'for': 10, 'you': 11, 'all': 12, 'was': 13, 'she': 14, 'that': 15, 'on': 16, 'with': 17, 'her': 18, 'but': 19, 'as': 20}\n",
      "total words: 2690\n"
     ]
    }
   ],
   "source": [
    "# Initialize the Tokenizer class\n",
    "tokenizer = Tokenizer()\n",
    "\n",
    "# Generate the word index dictionary\n",
    "tokenizer.fit_on_texts(corpus)\n",
    "\n",
    "# Define the total words. You add 1 for the index `0` which is just the padding token.\n",
    "total_words = len(tokenizer.word_index) + 1\n",
    "\n",
    "# print(f'word index dictionary: {tokenizer.word_index}')\n",
    "print({k:w for (k,w) in [x for x in tokenizer.word_index.items()][:20]})\n",
    "print(f'total words: {total_words}')"
   ]
  },
  {
   "cell_type": "markdown",
   "id": "18b1ae97",
   "metadata": {},
   "source": [
    "#### Word Index dictionary is generated, now preprocess the dataset\n",
    "* xs is the inputs to the model. It should be padded sequences\n",
    "* ys is the labels and should be one-hot encoded arrarys"
   ]
  },
  {
   "cell_type": "code",
   "execution_count": 9,
   "id": "d834064a",
   "metadata": {},
   "outputs": [
    {
     "name": "stdout",
     "output_type": "stream",
     "text": [
      "[51, 12, 96, 1217, 48, 2, 69]\n",
      "[51, 12]\n",
      "[51, 12, 96]\n",
      "[51, 12, 96, 1217]\n",
      "[51, 12, 96, 1217, 48]\n",
      "[51, 12, 96, 1217, 48, 2]\n",
      "[51, 12, 96, 1217, 48, 2, 69]\n",
      "\n",
      "---------------------------\n",
      "\n",
      "[2, 11, 15, 31, 361, 8, 24, 1218]\n",
      "[2, 11]\n",
      "[2, 11, 15]\n",
      "[2, 11, 15, 31]\n",
      "[2, 11, 15, 31, 361]\n",
      "[2, 11, 15, 31, 361, 8]\n",
      "[2, 11, 15, 31, 361, 8, 24]\n",
      "[2, 11, 15, 31, 361, 8, 24, 1218]\n",
      "\n",
      "---------------------------\n",
      "\n",
      "[272, 798, 2, 204, 24, 579, 69]\n",
      "[272, 798]\n",
      "[272, 798, 2]\n",
      "[272, 798, 2, 204]\n",
      "[272, 798, 2, 204, 24]\n",
      "[272, 798, 2, 204, 24, 579]\n",
      "[272, 798, 2, 204, 24, 579, 69]\n",
      "\n",
      "---------------------------\n",
      "\n",
      "[118, 35, 119, 799, 56, 24, 184]\n",
      "[118, 35]\n",
      "[118, 35, 119]\n",
      "[118, 35, 119, 799]\n",
      "[118, 35, 119, 799, 56]\n",
      "[118, 35, 119, 799, 56, 24]\n",
      "[118, 35, 119, 799, 56, 24, 184]\n",
      "\n",
      "---------------------------\n",
      "\n",
      "[10, 184, 25, 23, 5, 580, 456]\n",
      "[10, 184]\n",
      "[10, 184, 25]\n",
      "[10, 184, 25, 23]\n",
      "[10, 184, 25, 23, 5]\n",
      "[10, 184, 25, 23, 5, 580]\n",
      "[10, 184, 25, 23, 5, 580, 456]\n",
      "\n",
      "---------------------------\n",
      "\n"
     ]
    }
   ],
   "source": [
    "# Loop over every line\n",
    "for line in corpus[:5]:\n",
    "    print(tokenizer.texts_to_sequences([line])[0])\n",
    "    token_list = tokenizer.texts_to_sequences([line])[0]\n",
    "    \n",
    "    for i in range(1, len(token_list)):\n",
    "        # Generate the subphrase\n",
    "        n_gram_sequence = token_list[:i+1]\n",
    "        print(n_gram_sequence)\n",
    "        # Append the subphrase to the sequences list\n",
    "        # input_sequences.append(n_gram_sequence)\n",
    "    print(\"\")\n",
    "    print(\"---------------------------\")\n",
    "    print(\"\")"
   ]
  },
  {
   "cell_type": "code",
   "execution_count": 10,
   "id": "e50ff5bc",
   "metadata": {},
   "outputs": [],
   "source": [
    "# Initialize the sequences list\n",
    "input_sequences = []\n",
    "# Loop over every line\n",
    "for line in corpus:\n",
    "\n",
    "    # Tokenize the current line\n",
    "    token_list = tokenizer.texts_to_sequences([line])[0]\n",
    "\n",
    "        # Loop over the line several times to generate the subphrases\n",
    "    for i in range(1, len(token_list)):\n",
    "\n",
    "        # Generate the subphrase\n",
    "        n_gram_sequence = token_list[:i+1]\n",
    "\n",
    "        # Append the subphrase to the sequences list\n",
    "        input_sequences.append(n_gram_sequence)"
   ]
  },
  {
   "cell_type": "markdown",
   "id": "0c585d96",
   "metadata": {},
   "source": [
    "### Padding"
   ]
  },
  {
   "cell_type": "code",
   "execution_count": 11,
   "id": "447cc264",
   "metadata": {},
   "outputs": [],
   "source": [
    "# Get the length of the longest line\n",
    "max_sequence_len = max([len(x) for x in input_sequences])\n",
    "\n",
    "# Pad all sequences\n",
    "input_sequences = np.array(pad_sequences(input_sequences, maxlen=max_sequence_len, padding='pre'))\n",
    "\n",
    "# Create inputs and label by splitting the last token in the subphrases\n",
    "xs, labels = input_sequences[:,:-1],input_sequences[:,-1]\n",
    "\n",
    "# Convert the label into one-hot arrays\n",
    "ys = tf.keras.utils.to_categorical(labels, num_classes=total_words)"
   ]
  },
  {
   "cell_type": "code",
   "execution_count": 12,
   "id": "d7fdd54f",
   "metadata": {},
   "outputs": [
    {
     "name": "stdout",
     "output_type": "stream",
     "text": [
      "sample sentence: ['come', 'all', 'ye', 'maidens', 'young', 'and', 'fair']\n",
      "[51, 12, 96, 1217, 48, 2, 69]\n"
     ]
    }
   ],
   "source": [
    "# Get sample sentence\n",
    "sentence = corpus[0].split()\n",
    "print(f'sample sentence: {sentence}')\n",
    "\n",
    "# Initialize token list\n",
    "token_list = []\n",
    "\n",
    "# Look up the indices of each word and append to the list\n",
    "for word in sentence: \n",
    "    token_list.append(tokenizer.word_index[word])\n",
    "\n",
    "# Print the token list\n",
    "print(token_list)"
   ]
  },
  {
   "cell_type": "code",
   "execution_count": 13,
   "id": "87c2f7ba",
   "metadata": {},
   "outputs": [
    {
     "name": "stdout",
     "output_type": "stream",
     "text": [
      "token list: [   0    0    0    0    0    0    0    0    0   51   12   96 1217   48\n",
      "    2]\n",
      "decoded to text: ['come all ye maidens young and']\n",
      "one-hot label: [0. 0. 0. ... 0. 0. 0.]\n",
      "index of label: 69\n"
     ]
    }
   ],
   "source": [
    "# Pick element\n",
    "elem_number = 5\n",
    "\n",
    "# Print token list and phrase\n",
    "print(f'token list: {xs[elem_number]}')\n",
    "print(f'decoded to text: {tokenizer.sequences_to_texts([xs[elem_number]])}')\n",
    "\n",
    "# Print label\n",
    "print(f'one-hot label: {ys[elem_number]}')\n",
    "print(f'index of label: {np.argmax(ys[elem_number])}')"
   ]
  },
  {
   "cell_type": "code",
   "execution_count": 14,
   "id": "b582a972",
   "metadata": {},
   "outputs": [
    {
     "name": "stdout",
     "output_type": "stream",
     "text": [
      "token list: [   0    0    0    0    0    0    0    0    0    0   51   12   96 1217\n",
      "   48]\n",
      "decoded to text: ['come all ye maidens young']\n",
      "one-hot label: [0. 0. 1. ... 0. 0. 0.]\n",
      "index of label: 2\n"
     ]
    }
   ],
   "source": [
    "# Pick element\n",
    "elem_number = 4\n",
    "\n",
    "# Print token list and phrase\n",
    "print(f'token list: {xs[elem_number]}')\n",
    "print(f'decoded to text: {tokenizer.sequences_to_texts([xs[elem_number]])}')\n",
    "\n",
    "# Print label\n",
    "print(f'one-hot label: {ys[elem_number]}')\n",
    "print(f'index of label: {np.argmax(ys[elem_number])}')"
   ]
  },
  {
   "cell_type": "markdown",
   "id": "4dba72b7",
   "metadata": {},
   "source": [
    "#### Build Model"
   ]
  },
  {
   "cell_type": "code",
   "execution_count": 15,
   "id": "807bd78e",
   "metadata": {},
   "outputs": [
    {
     "name": "stderr",
     "output_type": "stream",
     "text": [
      "2023-01-08 22:54:00.142522: I tensorflow/stream_executor/cuda/cuda_gpu_executor.cc:939] successful NUMA node read from SysFS had negative value (-1), but there must be at least one NUMA node, so returning NUMA node zero\n",
      "2023-01-08 22:54:00.147586: I tensorflow/stream_executor/cuda/cuda_gpu_executor.cc:939] successful NUMA node read from SysFS had negative value (-1), but there must be at least one NUMA node, so returning NUMA node zero\n",
      "2023-01-08 22:54:00.148121: I tensorflow/stream_executor/cuda/cuda_gpu_executor.cc:939] successful NUMA node read from SysFS had negative value (-1), but there must be at least one NUMA node, so returning NUMA node zero\n",
      "2023-01-08 22:54:00.148732: I tensorflow/core/platform/cpu_feature_guard.cc:151] This TensorFlow binary is optimized with oneAPI Deep Neural Network Library (oneDNN) to use the following CPU instructions in performance-critical operations:  AVX2 AVX512F FMA\n",
      "To enable them in other operations, rebuild TensorFlow with the appropriate compiler flags.\n",
      "2023-01-08 22:54:00.149257: I tensorflow/stream_executor/cuda/cuda_gpu_executor.cc:939] successful NUMA node read from SysFS had negative value (-1), but there must be at least one NUMA node, so returning NUMA node zero\n",
      "2023-01-08 22:54:00.149671: I tensorflow/stream_executor/cuda/cuda_gpu_executor.cc:939] successful NUMA node read from SysFS had negative value (-1), but there must be at least one NUMA node, so returning NUMA node zero\n",
      "2023-01-08 22:54:00.150075: I tensorflow/stream_executor/cuda/cuda_gpu_executor.cc:939] successful NUMA node read from SysFS had negative value (-1), but there must be at least one NUMA node, so returning NUMA node zero\n",
      "2023-01-08 22:54:00.446167: I tensorflow/stream_executor/cuda/cuda_gpu_executor.cc:939] successful NUMA node read from SysFS had negative value (-1), but there must be at least one NUMA node, so returning NUMA node zero\n",
      "2023-01-08 22:54:00.446626: I tensorflow/stream_executor/cuda/cuda_gpu_executor.cc:939] successful NUMA node read from SysFS had negative value (-1), but there must be at least one NUMA node, so returning NUMA node zero\n",
      "2023-01-08 22:54:00.447515: I tensorflow/stream_executor/cuda/cuda_gpu_executor.cc:939] successful NUMA node read from SysFS had negative value (-1), but there must be at least one NUMA node, so returning NUMA node zero\n",
      "2023-01-08 22:54:00.447913: I tensorflow/core/common_runtime/gpu/gpu_device.cc:1525] Created device /job:localhost/replica:0/task:0/device:GPU:0 with 9299 MB memory:  -> device: 0, name: NVIDIA GeForce RTX 3080 Ti, pci bus id: 0000:01:00.0, compute capability: 8.6\n"
     ]
    },
    {
     "name": "stdout",
     "output_type": "stream",
     "text": [
      "Model: \"sequential\"\n",
      "_________________________________________________________________\n",
      " Layer (type)                Output Shape              Param #   \n",
      "=================================================================\n",
      " embedding (Embedding)       (None, 15, 100)           269000    \n",
      "                                                                 \n",
      " bidirectional (Bidirectiona  (None, 300)              301200    \n",
      " l)                                                              \n",
      "                                                                 \n",
      " dense (Dense)               (None, 2690)              809690    \n",
      "                                                                 \n",
      "=================================================================\n",
      "Total params: 1,379,890\n",
      "Trainable params: 1,379,890\n",
      "Non-trainable params: 0\n",
      "_________________________________________________________________\n"
     ]
    }
   ],
   "source": [
    "# Hyperparameters\n",
    "embedding_dim = 100\n",
    "lstm_units = 150\n",
    "learning_rate = 0.01\n",
    "\n",
    "# Build the model\n",
    "model = Sequential([\n",
    "          Embedding(total_words, embedding_dim, input_length=max_sequence_len-1),\n",
    "          Bidirectional(LSTM(lstm_units)),\n",
    "          Dense(total_words, activation='softmax')\n",
    "])\n",
    "\n",
    "# Use categorical crossentropy because this is a multi-class problem\n",
    "model.compile(\n",
    "    loss='categorical_crossentropy', \n",
    "    optimizer=tf.keras.optimizers.Adam(learning_rate=learning_rate), \n",
    "    metrics=['accuracy']\n",
    "    )\n",
    "\n",
    "# Print the model summary\n",
    "model.summary()"
   ]
  },
  {
   "cell_type": "code",
   "execution_count": 16,
   "id": "c838706c",
   "metadata": {},
   "outputs": [
    {
     "name": "stdout",
     "output_type": "stream",
     "text": [
      "Epoch 1/100\n"
     ]
    },
    {
     "name": "stderr",
     "output_type": "stream",
     "text": [
      "2023-01-08 22:54:02.663067: I tensorflow/stream_executor/cuda/cuda_dnn.cc:366] Loaded cuDNN version 8101\n"
     ]
    },
    {
     "name": "stdout",
     "output_type": "stream",
     "text": [
      " 12/377 [..............................] - ETA: 1s - loss: 7.5730 - accuracy: 0.0208       "
     ]
    },
    {
     "name": "stderr",
     "output_type": "stream",
     "text": [
      "2023-01-08 22:54:03.252146: I tensorflow/stream_executor/cuda/cuda_blas.cc:1774] TensorFloat-32 will be used for the matrix multiplication. This will only be logged once.\n"
     ]
    },
    {
     "name": "stdout",
     "output_type": "stream",
     "text": [
      "377/377 [==============================] - 4s 4ms/step - loss: 6.6051 - accuracy: 0.0784\n",
      "Epoch 2/100\n",
      "377/377 [==============================] - 1s 3ms/step - loss: 5.6891 - accuracy: 0.1216\n",
      "Epoch 3/100\n",
      "377/377 [==============================] - 1s 4ms/step - loss: 4.7840 - accuracy: 0.1724\n",
      "Epoch 4/100\n",
      "377/377 [==============================] - 1s 4ms/step - loss: 3.8729 - accuracy: 0.2510\n",
      "Epoch 5/100\n",
      "377/377 [==============================] - 1s 4ms/step - loss: 3.0183 - accuracy: 0.3501\n",
      "Epoch 6/100\n",
      "377/377 [==============================] - 1s 4ms/step - loss: 2.3666 - accuracy: 0.4644\n",
      "Epoch 7/100\n",
      "377/377 [==============================] - 1s 4ms/step - loss: 1.9249 - accuracy: 0.5442\n",
      "Epoch 8/100\n",
      "377/377 [==============================] - 1s 4ms/step - loss: 1.5517 - accuracy: 0.6285\n",
      "Epoch 9/100\n",
      "377/377 [==============================] - 1s 4ms/step - loss: 1.3506 - accuracy: 0.6695\n",
      "Epoch 10/100\n",
      "377/377 [==============================] - 2s 4ms/step - loss: 1.2476 - accuracy: 0.6981\n",
      "Epoch 11/100\n",
      "377/377 [==============================] - 1s 4ms/step - loss: 1.1195 - accuracy: 0.7265\n",
      "Epoch 12/100\n",
      "377/377 [==============================] - 1s 4ms/step - loss: 1.0897 - accuracy: 0.7339\n",
      "Epoch 13/100\n",
      "377/377 [==============================] - 1s 4ms/step - loss: 1.0536 - accuracy: 0.7377\n",
      "Epoch 14/100\n",
      "377/377 [==============================] - 1s 4ms/step - loss: 1.0482 - accuracy: 0.7398\n",
      "Epoch 15/100\n",
      "377/377 [==============================] - 1s 4ms/step - loss: 1.0693 - accuracy: 0.7303\n",
      "Epoch 16/100\n",
      "377/377 [==============================] - 1s 4ms/step - loss: 1.1401 - accuracy: 0.7042\n",
      "Epoch 17/100\n",
      "377/377 [==============================] - 1s 4ms/step - loss: 1.0726 - accuracy: 0.7245\n",
      "Epoch 18/100\n",
      "377/377 [==============================] - 1s 4ms/step - loss: 0.9708 - accuracy: 0.7512\n",
      "Epoch 19/100\n",
      "377/377 [==============================] - 1s 4ms/step - loss: 0.9235 - accuracy: 0.7636\n",
      "Epoch 20/100\n",
      "377/377 [==============================] - 1s 4ms/step - loss: 0.9056 - accuracy: 0.7675\n",
      "Epoch 21/100\n",
      "377/377 [==============================] - 2s 5ms/step - loss: 0.9016 - accuracy: 0.7684\n",
      "Epoch 22/100\n",
      "377/377 [==============================] - 2s 4ms/step - loss: 0.9353 - accuracy: 0.7623\n",
      "Epoch 23/100\n",
      "377/377 [==============================] - 2s 4ms/step - loss: 1.0110 - accuracy: 0.7391\n",
      "Epoch 24/100\n",
      "377/377 [==============================] - 2s 4ms/step - loss: 1.2360 - accuracy: 0.6843\n",
      "Epoch 25/100\n",
      "377/377 [==============================] - 2s 4ms/step - loss: 1.2679 - accuracy: 0.6736\n",
      "Epoch 26/100\n",
      "377/377 [==============================] - 1s 4ms/step - loss: 1.0693 - accuracy: 0.7200\n",
      "Epoch 27/100\n",
      "377/377 [==============================] - 2s 4ms/step - loss: 0.8887 - accuracy: 0.7661\n",
      "Epoch 28/100\n",
      "377/377 [==============================] - 2s 4ms/step - loss: 0.7763 - accuracy: 0.7999\n",
      "Epoch 29/100\n",
      "377/377 [==============================] - 2s 4ms/step - loss: 0.7251 - accuracy: 0.8121\n",
      "Epoch 30/100\n",
      "377/377 [==============================] - 2s 4ms/step - loss: 0.7056 - accuracy: 0.8211\n",
      "Epoch 31/100\n",
      "377/377 [==============================] - 2s 4ms/step - loss: 0.7400 - accuracy: 0.8063\n",
      "Epoch 32/100\n",
      "377/377 [==============================] - 2s 4ms/step - loss: 0.8585 - accuracy: 0.7771\n",
      "Epoch 33/100\n",
      "377/377 [==============================] - 2s 4ms/step - loss: 1.2185 - accuracy: 0.6828\n",
      "Epoch 34/100\n",
      "377/377 [==============================] - 1s 4ms/step - loss: 1.3626 - accuracy: 0.6533\n",
      "Epoch 35/100\n",
      "377/377 [==============================] - 2s 4ms/step - loss: 1.2299 - accuracy: 0.6830\n",
      "Epoch 36/100\n",
      "377/377 [==============================] - 2s 4ms/step - loss: 1.0129 - accuracy: 0.7343\n",
      "Epoch 37/100\n",
      "377/377 [==============================] - 2s 4ms/step - loss: 0.8807 - accuracy: 0.7672\n",
      "Epoch 38/100\n",
      "377/377 [==============================] - 2s 4ms/step - loss: 0.7947 - accuracy: 0.7927\n",
      "Epoch 39/100\n",
      "377/377 [==============================] - 2s 4ms/step - loss: 0.7517 - accuracy: 0.8054\n",
      "Epoch 40/100\n",
      "377/377 [==============================] - 2s 4ms/step - loss: 0.7136 - accuracy: 0.8143\n",
      "Epoch 41/100\n",
      "377/377 [==============================] - 2s 4ms/step - loss: 0.7703 - accuracy: 0.7981\n",
      "Epoch 42/100\n",
      "377/377 [==============================] - 2s 4ms/step - loss: 0.8655 - accuracy: 0.7745\n",
      "Epoch 43/100\n",
      "377/377 [==============================] - 2s 4ms/step - loss: 1.0683 - accuracy: 0.7208\n",
      "Epoch 44/100\n",
      "377/377 [==============================] - 2s 4ms/step - loss: 1.1625 - accuracy: 0.7007\n",
      "Epoch 45/100\n",
      "377/377 [==============================] - 2s 4ms/step - loss: 1.2643 - accuracy: 0.6769\n",
      "Epoch 46/100\n",
      "377/377 [==============================] - 2s 4ms/step - loss: 1.1170 - accuracy: 0.7068\n",
      "Epoch 47/100\n",
      "377/377 [==============================] - 2s 4ms/step - loss: 0.9891 - accuracy: 0.7377\n",
      "Epoch 48/100\n",
      "377/377 [==============================] - 2s 4ms/step - loss: 0.8441 - accuracy: 0.7780\n",
      "Epoch 49/100\n",
      "377/377 [==============================] - 2s 4ms/step - loss: 0.7826 - accuracy: 0.7920\n",
      "Epoch 50/100\n",
      "377/377 [==============================] - 2s 4ms/step - loss: 0.7438 - accuracy: 0.8030\n",
      "Epoch 51/100\n",
      "377/377 [==============================] - 2s 4ms/step - loss: 0.7368 - accuracy: 0.8063\n",
      "Epoch 52/100\n",
      "377/377 [==============================] - 2s 4ms/step - loss: 0.7750 - accuracy: 0.7970\n",
      "Epoch 53/100\n",
      "377/377 [==============================] - 2s 4ms/step - loss: 0.9548 - accuracy: 0.7485\n",
      "Epoch 54/100\n",
      "377/377 [==============================] - 2s 4ms/step - loss: 1.1282 - accuracy: 0.7068\n",
      "Epoch 55/100\n",
      "377/377 [==============================] - 2s 4ms/step - loss: 1.1252 - accuracy: 0.7071\n",
      "Epoch 56/100\n",
      "377/377 [==============================] - 2s 4ms/step - loss: 1.0512 - accuracy: 0.7199\n",
      "Epoch 57/100\n",
      "377/377 [==============================] - 2s 4ms/step - loss: 0.9701 - accuracy: 0.7411\n",
      "Epoch 58/100\n",
      "377/377 [==============================] - 2s 4ms/step - loss: 0.8560 - accuracy: 0.7720\n",
      "Epoch 59/100\n",
      "377/377 [==============================] - 2s 4ms/step - loss: 0.7948 - accuracy: 0.7863\n",
      "Epoch 60/100\n",
      "377/377 [==============================] - 2s 4ms/step - loss: 0.7425 - accuracy: 0.8041\n",
      "Epoch 61/100\n",
      "377/377 [==============================] - 2s 5ms/step - loss: 0.7301 - accuracy: 0.8025\n",
      "Epoch 62/100\n",
      "377/377 [==============================] - 2s 4ms/step - loss: 0.7481 - accuracy: 0.8003\n",
      "Epoch 63/100\n",
      "377/377 [==============================] - 2s 4ms/step - loss: 0.8248 - accuracy: 0.7767\n",
      "Epoch 64/100\n",
      "377/377 [==============================] - 2s 4ms/step - loss: 0.9895 - accuracy: 0.7376\n",
      "Epoch 65/100\n",
      "377/377 [==============================] - 2s 4ms/step - loss: 1.1657 - accuracy: 0.7007\n",
      "Epoch 66/100\n",
      "377/377 [==============================] - 2s 5ms/step - loss: 1.2881 - accuracy: 0.6785\n",
      "Epoch 67/100\n",
      "377/377 [==============================] - 2s 4ms/step - loss: 1.1822 - accuracy: 0.6955\n",
      "Epoch 68/100\n",
      "377/377 [==============================] - 2s 4ms/step - loss: 1.0420 - accuracy: 0.7244\n",
      "Epoch 69/100\n",
      "377/377 [==============================] - 2s 4ms/step - loss: 0.8914 - accuracy: 0.7657\n",
      "Epoch 70/100\n",
      "377/377 [==============================] - 1s 4ms/step - loss: 0.7759 - accuracy: 0.7929\n",
      "Epoch 71/100\n",
      "377/377 [==============================] - 1s 4ms/step - loss: 0.7120 - accuracy: 0.8106\n",
      "Epoch 72/100\n",
      "377/377 [==============================] - 1s 4ms/step - loss: 0.6823 - accuracy: 0.8197\n",
      "Epoch 73/100\n",
      "377/377 [==============================] - 1s 4ms/step - loss: 0.6747 - accuracy: 0.8219\n",
      "Epoch 74/100\n",
      "377/377 [==============================] - 1s 4ms/step - loss: 0.6889 - accuracy: 0.8167\n",
      "Epoch 75/100\n",
      "377/377 [==============================] - 2s 4ms/step - loss: 0.8755 - accuracy: 0.7712\n",
      "Epoch 76/100\n",
      "377/377 [==============================] - 2s 4ms/step - loss: 1.2246 - accuracy: 0.6984\n",
      "Epoch 77/100\n",
      "377/377 [==============================] - 2s 4ms/step - loss: 1.2658 - accuracy: 0.6882\n",
      "Epoch 78/100\n",
      "377/377 [==============================] - 2s 5ms/step - loss: 1.1078 - accuracy: 0.7116\n",
      "Epoch 79/100\n",
      "377/377 [==============================] - 2s 4ms/step - loss: 0.9786 - accuracy: 0.7407\n",
      "Epoch 80/100\n",
      "377/377 [==============================] - 2s 4ms/step - loss: 0.8806 - accuracy: 0.7667\n",
      "Epoch 81/100\n",
      "377/377 [==============================] - 2s 5ms/step - loss: 0.7832 - accuracy: 0.7906\n",
      "Epoch 82/100\n",
      "377/377 [==============================] - 2s 4ms/step - loss: 0.7220 - accuracy: 0.8132\n",
      "Epoch 83/100\n",
      "377/377 [==============================] - 2s 4ms/step - loss: 0.6897 - accuracy: 0.8209\n",
      "Epoch 84/100\n",
      "377/377 [==============================] - 2s 5ms/step - loss: 0.6830 - accuracy: 0.8192\n",
      "Epoch 85/100\n",
      "377/377 [==============================] - 2s 4ms/step - loss: 0.7322 - accuracy: 0.8049\n",
      "Epoch 86/100\n",
      "377/377 [==============================] - 2s 4ms/step - loss: 0.9197 - accuracy: 0.7613\n",
      "Epoch 87/100\n",
      "377/377 [==============================] - 2s 4ms/step - loss: 1.2481 - accuracy: 0.6925\n",
      "Epoch 88/100\n",
      "377/377 [==============================] - 2s 4ms/step - loss: 1.2288 - accuracy: 0.6958\n",
      "Epoch 89/100\n",
      "377/377 [==============================] - 2s 4ms/step - loss: 1.0852 - accuracy: 0.7239\n",
      "Epoch 90/100\n",
      "377/377 [==============================] - 2s 4ms/step - loss: 0.9210 - accuracy: 0.7605\n",
      "Epoch 91/100\n",
      "377/377 [==============================] - 2s 4ms/step - loss: 0.8114 - accuracy: 0.7858\n",
      "Epoch 92/100\n",
      "377/377 [==============================] - 2s 4ms/step - loss: 0.7779 - accuracy: 0.7941\n",
      "Epoch 93/100\n",
      "377/377 [==============================] - 2s 4ms/step - loss: 0.7907 - accuracy: 0.7922\n",
      "Epoch 94/100\n",
      "377/377 [==============================] - 2s 4ms/step - loss: 0.7687 - accuracy: 0.7974\n",
      "Epoch 95/100\n",
      "377/377 [==============================] - 2s 4ms/step - loss: 0.7785 - accuracy: 0.7970\n",
      "Epoch 96/100\n",
      "377/377 [==============================] - 2s 4ms/step - loss: 0.8555 - accuracy: 0.7755\n",
      "Epoch 97/100\n",
      "377/377 [==============================] - 2s 4ms/step - loss: 1.0221 - accuracy: 0.7367\n",
      "Epoch 98/100\n",
      "377/377 [==============================] - 2s 4ms/step - loss: 1.0050 - accuracy: 0.7410\n",
      "Epoch 99/100\n",
      "377/377 [==============================] - 2s 4ms/step - loss: 0.9548 - accuracy: 0.7487\n",
      "Epoch 100/100\n",
      "377/377 [==============================] - 2s 4ms/step - loss: 0.9033 - accuracy: 0.7651\n",
      "CPU times: user 3min 12s, sys: 16 s, total: 3min 28s\n",
      "Wall time: 2min 38s\n"
     ]
    }
   ],
   "source": [
    "%%time\n",
    "epochs = 100\n",
    "\n",
    "# Train the model\n",
    "history = model.fit(xs, ys, epochs=epochs)"
   ]
  },
  {
   "cell_type": "code",
   "execution_count": 17,
   "id": "2a1f822c",
   "metadata": {},
   "outputs": [
    {
     "data": {
      "image/png": "[encoded data removed]",
      "text/plain": [
       "<Figure size 432x288 with 1 Axes>"
      ]
     },
     "metadata": {
      "needs_background": "light"
     },
     "output_type": "display_data"
    }
   ],
   "source": [
    "import matplotlib.pyplot as plt\n",
    "\n",
    "# Plot utility\n",
    "def plot_graphs(history, string):\n",
    "  plt.plot(history.history[string])\n",
    "  plt.xlabel(\"Epochs\")\n",
    "  plt.ylabel(string)\n",
    "  plt.show()\n",
    "\n",
    "# Visualize the accuracy\n",
    "plot_graphs(history, 'accuracy')"
   ]
  },
  {
   "cell_type": "code",
   "execution_count": 18,
   "id": "a868359f",
   "metadata": {},
   "outputs": [
    {
     "name": "stdout",
     "output_type": "stream",
     "text": [
      "help me obi-wan kinobi youre my only hope to their mantle were spreading i heartfrom sinking gone gone gone gone gone gone and gone gone back now gone gone gone smile as white as break roses bloom i have left best had soul green can be rough gone had love gone gone by i lived in spancil hill and low in far away oer me hand i love my love and me now i stand best opened patrick i sustaining breast my rapier gone and gone poured roaming gone golden lady along currabawn had there i met away while me and tears him straight there i gone gone\n"
     ]
    }
   ],
   "source": [
    "# Define seed text\n",
    "seed_text = \"help me obi-wan kinobi youre my only hope\"\n",
    "\n",
    "# Define total words to predict\n",
    "next_words = 100\n",
    "\n",
    "# Loop until desired length is reached\n",
    "for _ in range(next_words):\n",
    "\n",
    "    # Convert the seed text to a token sequence\n",
    "    token_list = tokenizer.texts_to_sequences([seed_text])[0]\n",
    "\n",
    "    token_list = pad_sequences([token_list], maxlen=max_sequence_len-1, \n",
    "    # Pad the sequencepadding='pre')\n",
    "\n",
    "    # Feed to the model and get the probabilities for each index\n",
    "    probabilities = model.predict(token_list)\n",
    "\n",
    "    # Get the index with the highest probability\n",
    "    predicted = np.argmax(probabilities, axis=-1)[0]\n",
    "\n",
    "    # Ignore if index is 0 because that is just the padding.\n",
    "    if predicted != 0:\n",
    "\n",
    "        # Look up the word associated with the index. \n",
    "        output_word = tokenizer.index_word[predicted]\n",
    "\n",
    "        # Combine with the seed text\n",
    "        seed_text += \" \" + output_word\n",
    "\n",
    "# Print the result\t\n",
    "print(seed_text)"
   ]
  },
  {
   "cell_type": "code",
   "execution_count": 19,
   "id": "d903c63a",
   "metadata": {},
   "outputs": [
    {
     "name": "stdout",
     "output_type": "stream",
     "text": [
      "help me obi-wan kinobi youre my only hope has been granted got it still now i surrendered gone alas i might say get hand this eyes inside cross him laughing lightly when bravely love without gone be the o lowly his feet he knows rest i couldnt had adoration rum old love it i remember through heel love back when gone by turns i comes my into what is gone by young terrance duram potatoes nor barley her sinking misfortune come had squall forever it be i gone away gone him i else and iii claret quite gone away from fists no i love best there love is\n"
     ]
    }
   ],
   "source": [
    "# Define seed text\n",
    "seed_text = \"help me obi-wan kinobi youre my only hope\"\n",
    "\n",
    "# Define total words to predict\n",
    "next_words = 100\n",
    "\n",
    "# Loop until desired length is reached\n",
    "for _ in range(next_words):\n",
    "\n",
    "    # Convert the seed text to a token sequence\n",
    "    token_list = tokenizer.texts_to_sequences([seed_text])[0]\n",
    "\n",
    "    # Pad the sequence\n",
    "    token_list = pad_sequences([token_list], maxlen=max_sequence_len-1, padding='pre')\n",
    "\n",
    "    # Feed to the model and get the probabilities for each index\n",
    "    probabilities = model.predict(token_list)\n",
    "\n",
    "    # Pick a random number from [1,2,3]\n",
    "    choice = np.random.choice([1,2,3])\n",
    "\n",
    "    # Sort the probabilities in ascending order \n",
    "    # and get the random choice from the end of the array\n",
    "    predicted = np.argsort(probabilities)[0][-choice]\n",
    "\n",
    "    # Ignore if index is 0 because that is just the padding.\n",
    "    if predicted != 0:\n",
    "\n",
    "        # Look up the word associated with the index. \n",
    "        output_word = tokenizer.index_word[predicted]\n",
    "\n",
    "        # Combine with the seed text\n",
    "        seed_text += \" \" + output_word\n",
    "\n",
    "# Print the result\t\n",
    "print(seed_text)"
   ]
  },
  {
   "cell_type": "code",
   "execution_count": null,
   "id": "bf5fb573",
   "metadata": {},
   "outputs": [],
   "source": []
  }
 ],
 "metadata": {
  "kernelspec": {
   "display_name": "Python 3 (ipykernel)",
   "language": "python",
   "name": "python3"
  },
  "language_info": {
   "codemirror_mode": {
    "name": "ipython",
    "version": 3
   },
   "file_extension": ".py",
   "mimetype": "text/x-python",
   "name": "python",
   "nbconvert_exporter": "python",
   "pygments_lexer": "ipython3",
   "version": "3.8.10"
  }
 },
 "nbformat": 4,
 "nbformat_minor": 5
}
