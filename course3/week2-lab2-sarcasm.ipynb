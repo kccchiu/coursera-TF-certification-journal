{
 "cells": [
  {
   "cell_type": "code",
   "execution_count": 1,
   "id": "721e84d1",
   "metadata": {},
   "outputs": [],
   "source": [
    "import json\n",
    "\n",
    "# Load the JSON file\n",
    "with open(\"sarcasm.json\", 'r') as f:\n",
    "    datastore = json.load(f)\n",
    "\n",
    "# Initialize the lists\n",
    "sentences = []\n",
    "labels = []\n",
    "\n",
    "# Collect sentences and labels into the lists\n",
    "for item in datastore:\n",
    "    sentences.append(item['headline'])\n",
    "    labels.append(item['is_sarcastic'])"
   ]
  },
  {
   "cell_type": "code",
   "execution_count": 4,
   "id": "8283e0f7",
   "metadata": {},
   "outputs": [],
   "source": [
    "#Params\n",
    "# Number of examples to use for training\n",
    "training_size = 20000\n",
    "\n",
    "# Vocabulary size of the tokenizer\n",
    "vocab_size = 10000\n",
    "\n",
    "# Maximum length of the padded sequences\n",
    "max_length = 32\n",
    "\n",
    "# Output dimensions of the Embedding layer\n",
    "embedding_dim = 16"
   ]
  },
  {
   "cell_type": "markdown",
   "id": "a7ff9563",
   "metadata": {},
   "source": [
    "### Train Test Split"
   ]
  },
  {
   "cell_type": "code",
   "execution_count": 5,
   "id": "c45a1253",
   "metadata": {},
   "outputs": [],
   "source": [
    "# Split the sentences\n",
    "training_sentences = sentences[0:training_size]\n",
    "testing_sentences = sentences[training_size:]\n",
    "\n",
    "# Split the labels\n",
    "training_labels = labels[0:training_size]\n",
    "testing_labels = labels[training_size:]"
   ]
  },
  {
   "cell_type": "markdown",
   "id": "26dc8462",
   "metadata": {},
   "source": [
    "#### Preprocess w/ tokenizer and convert to np.array"
   ]
  },
  {
   "cell_type": "code",
   "execution_count": 6,
   "id": "ca36b9fc",
   "metadata": {},
   "outputs": [],
   "source": [
    "import numpy as np\n",
    "from tensorflow.keras.preprocessing.text import Tokenizer\n",
    "from tensorflow.keras.preprocessing.sequence import pad_sequences\n",
    "\n",
    "# Parameters for padding and OOV tokens\n",
    "trunc_type='post'\n",
    "padding_type='post'\n",
    "oov_tok = \"<OOV>\"\n",
    "\n",
    "# Initialize the Tokenizer class\n",
    "tokenizer = Tokenizer(num_words=vocab_size, oov_token=oov_tok)\n",
    "\n",
    "# Generate the word index dictionary\n",
    "tokenizer.fit_on_texts(training_sentences)\n",
    "word_index = tokenizer.word_index\n",
    "\n",
    "# Generate and pad the training sequences\n",
    "training_sequences = tokenizer.texts_to_sequences(training_sentences)\n",
    "training_padded = pad_sequences(training_sequences, maxlen=max_length, padding=padding_type, truncating=trunc_type)\n",
    "\n",
    "# Generate and pad the testing sequences\n",
    "testing_sequences = tokenizer.texts_to_sequences(testing_sentences)\n",
    "testing_padded = pad_sequences(testing_sequences, maxlen=max_length, padding=padding_type, truncating=trunc_type)\n",
    "\n",
    "# Convert the labels lists into numpy arrays\n",
    "training_labels = np.array(training_labels)\n",
    "testing_labels = np.array(testing_labels)"
   ]
  },
  {
   "cell_type": "markdown",
   "id": "cd874a55",
   "metadata": {},
   "source": [
    "#### Build and Compile Model\n",
    "Using GlobalAveragePooling1D instead of Faltten after Embedding.<br>\n",
    "This average the sequence dimensions before connecting to dense layers<br>\n",
    "i.e. `(10 + 1 + 1) / 3` and `(2 + 3 + 1) / 3`"
   ]
  },
  {
   "cell_type": "code",
   "execution_count": 7,
   "id": "e8e1f535",
   "metadata": {},
   "outputs": [
    {
     "name": "stdout",
     "output_type": "stream",
     "text": [
      "shape of sample_array = (1, 3, 2)\n",
      "sample array: [[[10  2]\n",
      "  [ 1  3]\n",
      "  [ 1  1]]]\n",
      "output shape of gap1d_layer: (1, 2)\n",
      "output array of gap1d_layer: [[4 2]]\n"
     ]
    },
    {
     "name": "stderr",
     "output_type": "stream",
     "text": [
      "2022-09-11 13:14:34.003692: I tensorflow/stream_executor/cuda/cuda_gpu_executor.cc:939] successful NUMA node read from SysFS had negative value (-1), but there must be at least one NUMA node, so returning NUMA node zero\n",
      "2022-09-11 13:14:34.007983: I tensorflow/stream_executor/cuda/cuda_gpu_executor.cc:939] successful NUMA node read from SysFS had negative value (-1), but there must be at least one NUMA node, so returning NUMA node zero\n",
      "2022-09-11 13:14:34.008394: I tensorflow/stream_executor/cuda/cuda_gpu_executor.cc:939] successful NUMA node read from SysFS had negative value (-1), but there must be at least one NUMA node, so returning NUMA node zero\n",
      "2022-09-11 13:14:34.009265: I tensorflow/core/platform/cpu_feature_guard.cc:151] This TensorFlow binary is optimized with oneAPI Deep Neural Network Library (oneDNN) to use the following CPU instructions in performance-critical operations:  AVX2 AVX512F FMA\n",
      "To enable them in other operations, rebuild TensorFlow with the appropriate compiler flags.\n",
      "2022-09-11 13:14:34.010089: I tensorflow/stream_executor/cuda/cuda_gpu_executor.cc:939] successful NUMA node read from SysFS had negative value (-1), but there must be at least one NUMA node, so returning NUMA node zero\n",
      "2022-09-11 13:14:34.010510: I tensorflow/stream_executor/cuda/cuda_gpu_executor.cc:939] successful NUMA node read from SysFS had negative value (-1), but there must be at least one NUMA node, so returning NUMA node zero\n",
      "2022-09-11 13:14:34.010899: I tensorflow/stream_executor/cuda/cuda_gpu_executor.cc:939] successful NUMA node read from SysFS had negative value (-1), but there must be at least one NUMA node, so returning NUMA node zero\n",
      "2022-09-11 13:14:34.313198: I tensorflow/stream_executor/cuda/cuda_gpu_executor.cc:939] successful NUMA node read from SysFS had negative value (-1), but there must be at least one NUMA node, so returning NUMA node zero\n",
      "2022-09-11 13:14:34.313621: I tensorflow/stream_executor/cuda/cuda_gpu_executor.cc:939] successful NUMA node read from SysFS had negative value (-1), but there must be at least one NUMA node, so returning NUMA node zero\n",
      "2022-09-11 13:14:34.314005: I tensorflow/stream_executor/cuda/cuda_gpu_executor.cc:939] successful NUMA node read from SysFS had negative value (-1), but there must be at least one NUMA node, so returning NUMA node zero\n",
      "2022-09-11 13:14:34.314394: I tensorflow/core/common_runtime/gpu/gpu_device.cc:1525] Created device /job:localhost/replica:0/task:0/device:GPU:0 with 9221 MB memory:  -> device: 0, name: NVIDIA GeForce RTX 3080 Ti, pci bus id: 0000:01:00.0, compute capability: 8.6\n"
     ]
    }
   ],
   "source": [
    "import tensorflow as tf\n",
    "\n",
    "# Initialize a GlobalAveragePooling1D (GAP1D) layer\n",
    "gap1d_layer = tf.keras.layers.GlobalAveragePooling1D()\n",
    "\n",
    "# Define sample array\n",
    "sample_array = np.array([[[10,2],[1,3],[1,1]]])\n",
    "\n",
    "# Print shape and contents of sample array\n",
    "print(f'shape of sample_array = {sample_array.shape}')\n",
    "print(f'sample array: {sample_array}')\n",
    "\n",
    "# Pass the sample array to the GAP1D layer\n",
    "output = gap1d_layer(sample_array)\n",
    "\n",
    "# Print shape and contents of the GAP1D output array\n",
    "print(f'output shape of gap1d_layer: {output.shape}')\n",
    "print(f'output array of gap1d_layer: {output.numpy()}')"
   ]
  },
  {
   "cell_type": "code",
   "execution_count": 8,
   "id": "604712d9",
   "metadata": {},
   "outputs": [
    {
     "name": "stdout",
     "output_type": "stream",
     "text": [
      "Model: \"sequential\"\n",
      "_________________________________________________________________\n",
      " Layer (type)                Output Shape              Param #   \n",
      "=================================================================\n",
      " embedding (Embedding)       (None, 32, 16)            160000    \n",
      "                                                                 \n",
      " global_average_pooling1d_1   (None, 16)               0         \n",
      " (GlobalAveragePooling1D)                                        \n",
      "                                                                 \n",
      " dense (Dense)               (None, 24)                408       \n",
      "                                                                 \n",
      " dense_1 (Dense)             (None, 1)                 25        \n",
      "                                                                 \n",
      "=================================================================\n",
      "Total params: 160,433\n",
      "Trainable params: 160,433\n",
      "Non-trainable params: 0\n",
      "_________________________________________________________________\n"
     ]
    }
   ],
   "source": [
    "# Build the model\n",
    "model = tf.keras.Sequential([\n",
    "    tf.keras.layers.Embedding(vocab_size, embedding_dim, input_length=max_length),\n",
    "    tf.keras.layers.GlobalAveragePooling1D(),\n",
    "    tf.keras.layers.Dense(24, activation='relu'),\n",
    "    tf.keras.layers.Dense(1, activation='sigmoid')\n",
    "])\n",
    "\n",
    "# Print the model summary\n",
    "model.summary()"
   ]
  },
  {
   "cell_type": "code",
   "execution_count": 9,
   "id": "e91580ae",
   "metadata": {},
   "outputs": [],
   "source": [
    "# Compile the model\n",
    "model.compile(loss='binary_crossentropy',optimizer='adam',metrics=['accuracy'])"
   ]
  },
  {
   "cell_type": "markdown",
   "id": "f14c8720",
   "metadata": {},
   "source": [
    "#### Train"
   ]
  },
  {
   "cell_type": "code",
   "execution_count": 10,
   "id": "c749dc6e",
   "metadata": {
    "scrolled": true
   },
   "outputs": [
    {
     "name": "stdout",
     "output_type": "stream",
     "text": [
      "Epoch 1/30\n"
     ]
    },
    {
     "name": "stderr",
     "output_type": "stream",
     "text": [
      "2022-09-11 13:15:42.913882: I tensorflow/stream_executor/cuda/cuda_blas.cc:1774] TensorFloat-32 will be used for the matrix multiplication. This will only be logged once.\n"
     ]
    },
    {
     "name": "stdout",
     "output_type": "stream",
     "text": [
      "625/625 - 2s - loss: 0.5735 - accuracy: 0.6976 - val_loss: 0.4046 - val_accuracy: 0.8337 - 2s/epoch - 2ms/step\n",
      "Epoch 2/30\n",
      "625/625 - 1s - loss: 0.3187 - accuracy: 0.8727 - val_loss: 0.3464 - val_accuracy: 0.8541 - 691ms/epoch - 1ms/step\n",
      "Epoch 3/30\n",
      "625/625 - 1s - loss: 0.2380 - accuracy: 0.9068 - val_loss: 0.3458 - val_accuracy: 0.8517 - 702ms/epoch - 1ms/step\n",
      "Epoch 4/30\n",
      "625/625 - 1s - loss: 0.1911 - accuracy: 0.9273 - val_loss: 0.3608 - val_accuracy: 0.8545 - 689ms/epoch - 1ms/step\n",
      "Epoch 5/30\n",
      "625/625 - 1s - loss: 0.1585 - accuracy: 0.9402 - val_loss: 0.3933 - val_accuracy: 0.8472 - 667ms/epoch - 1ms/step\n",
      "Epoch 6/30\n",
      "625/625 - 1s - loss: 0.1337 - accuracy: 0.9520 - val_loss: 0.4290 - val_accuracy: 0.8442 - 687ms/epoch - 1ms/step\n",
      "Epoch 7/30\n",
      "625/625 - 1s - loss: 0.1145 - accuracy: 0.9609 - val_loss: 0.4616 - val_accuracy: 0.8453 - 707ms/epoch - 1ms/step\n",
      "Epoch 8/30\n",
      "625/625 - 1s - loss: 0.0984 - accuracy: 0.9665 - val_loss: 0.5032 - val_accuracy: 0.8378 - 674ms/epoch - 1ms/step\n",
      "Epoch 9/30\n",
      "625/625 - 1s - loss: 0.0858 - accuracy: 0.9711 - val_loss: 0.5657 - val_accuracy: 0.8338 - 683ms/epoch - 1ms/step\n",
      "Epoch 10/30\n",
      "625/625 - 1s - loss: 0.0740 - accuracy: 0.9768 - val_loss: 0.6070 - val_accuracy: 0.8299 - 685ms/epoch - 1ms/step\n",
      "Epoch 11/30\n",
      "625/625 - 1s - loss: 0.0642 - accuracy: 0.9797 - val_loss: 0.6618 - val_accuracy: 0.8267 - 664ms/epoch - 1ms/step\n",
      "Epoch 12/30\n",
      "625/625 - 1s - loss: 0.0559 - accuracy: 0.9832 - val_loss: 0.7197 - val_accuracy: 0.8256 - 692ms/epoch - 1ms/step\n",
      "Epoch 13/30\n",
      "625/625 - 1s - loss: 0.0485 - accuracy: 0.9851 - val_loss: 0.7778 - val_accuracy: 0.8226 - 709ms/epoch - 1ms/step\n",
      "Epoch 14/30\n",
      "625/625 - 1s - loss: 0.0438 - accuracy: 0.9865 - val_loss: 0.8306 - val_accuracy: 0.8190 - 666ms/epoch - 1ms/step\n",
      "Epoch 15/30\n",
      "625/625 - 1s - loss: 0.0377 - accuracy: 0.9889 - val_loss: 0.9160 - val_accuracy: 0.8146 - 691ms/epoch - 1ms/step\n",
      "Epoch 16/30\n",
      "625/625 - 1s - loss: 0.0335 - accuracy: 0.9902 - val_loss: 0.9495 - val_accuracy: 0.8168 - 691ms/epoch - 1ms/step\n",
      "Epoch 17/30\n",
      "625/625 - 1s - loss: 0.0295 - accuracy: 0.9920 - val_loss: 1.0155 - val_accuracy: 0.8125 - 664ms/epoch - 1ms/step\n",
      "Epoch 18/30\n",
      "625/625 - 1s - loss: 0.0263 - accuracy: 0.9920 - val_loss: 1.1033 - val_accuracy: 0.8113 - 695ms/epoch - 1ms/step\n",
      "Epoch 19/30\n",
      "625/625 - 1s - loss: 0.0231 - accuracy: 0.9934 - val_loss: 1.1524 - val_accuracy: 0.8117 - 720ms/epoch - 1ms/step\n",
      "Epoch 20/30\n",
      "625/625 - 1s - loss: 0.0204 - accuracy: 0.9944 - val_loss: 1.2853 - val_accuracy: 0.8094 - 721ms/epoch - 1ms/step\n",
      "Epoch 21/30\n",
      "625/625 - 1s - loss: 0.0181 - accuracy: 0.9949 - val_loss: 1.2752 - val_accuracy: 0.8088 - 710ms/epoch - 1ms/step\n",
      "Epoch 22/30\n",
      "625/625 - 1s - loss: 0.0161 - accuracy: 0.9959 - val_loss: 1.3207 - val_accuracy: 0.8074 - 668ms/epoch - 1ms/step\n",
      "Epoch 23/30\n",
      "625/625 - 1s - loss: 0.0155 - accuracy: 0.9952 - val_loss: 1.3819 - val_accuracy: 0.8070 - 671ms/epoch - 1ms/step\n",
      "Epoch 24/30\n",
      "625/625 - 1s - loss: 0.0129 - accuracy: 0.9966 - val_loss: 1.4598 - val_accuracy: 0.8079 - 691ms/epoch - 1ms/step\n",
      "Epoch 25/30\n",
      "625/625 - 1s - loss: 0.0113 - accuracy: 0.9971 - val_loss: 1.4760 - val_accuracy: 0.8058 - 704ms/epoch - 1ms/step\n",
      "Epoch 26/30\n",
      "625/625 - 1s - loss: 0.0101 - accuracy: 0.9972 - val_loss: 1.5502 - val_accuracy: 0.8035 - 746ms/epoch - 1ms/step\n",
      "Epoch 27/30\n",
      "625/625 - 1s - loss: 0.0109 - accuracy: 0.9973 - val_loss: 1.6427 - val_accuracy: 0.8031 - 692ms/epoch - 1ms/step\n",
      "Epoch 28/30\n",
      "625/625 - 1s - loss: 0.0101 - accuracy: 0.9973 - val_loss: 1.6732 - val_accuracy: 0.8030 - 673ms/epoch - 1ms/step\n",
      "Epoch 29/30\n",
      "625/625 - 1s - loss: 0.0092 - accuracy: 0.9969 - val_loss: 1.7717 - val_accuracy: 0.8028 - 696ms/epoch - 1ms/step\n",
      "Epoch 30/30\n",
      "625/625 - 1s - loss: 0.0076 - accuracy: 0.9980 - val_loss: 1.8421 - val_accuracy: 0.8031 - 708ms/epoch - 1ms/step\n"
     ]
    }
   ],
   "source": [
    "num_epochs = 30\n",
    "\n",
    "# Train the model\n",
    "history = model.fit(training_padded, training_labels, epochs=num_epochs, validation_data=(testing_padded, testing_labels), verbose=2)"
   ]
  },
  {
   "cell_type": "markdown",
   "id": "a7cc9616",
   "metadata": {},
   "source": [
    "#### Result"
   ]
  },
  {
   "cell_type": "code",
   "execution_count": 11,
   "id": "c428a372",
   "metadata": {},
   "outputs": [
    {
     "data": {
      "image/png": "[encoded data removed]",
      "text/plain": [
       "<Figure size 432x288 with 1 Axes>"
      ]
     },
     "metadata": {
      "needs_background": "light"
     },
     "output_type": "display_data"
    },
    {
     "data": {
      "image/png": "[encoded data removed]",
      "text/plain": [
       "<Figure size 432x288 with 1 Axes>"
      ]
     },
     "metadata": {
      "needs_background": "light"
     },
     "output_type": "display_data"
    }
   ],
   "source": [
    "import matplotlib.pyplot as plt\n",
    "\n",
    "# Plot utility\n",
    "def plot_graphs(history, string):\n",
    "    plt.plot(history.history[string])\n",
    "    plt.plot(history.history['val_'+string])\n",
    "    plt.xlabel(\"Epochs\")\n",
    "    plt.ylabel(string)\n",
    "    plt.legend([string, 'val_'+string])\n",
    "    plt.show()\n",
    "  \n",
    "# Plot the accuracy and loss\n",
    "plot_graphs(history, \"accuracy\")\n",
    "plot_graphs(history, \"loss\")"
   ]
  }
 ],
 "metadata": {
  "kernelspec": {
   "display_name": "Python 3 (ipykernel)",
   "language": "python",
   "name": "python3"
  },
  "language_info": {
   "codemirror_mode": {
    "name": "ipython",
    "version": 3
   },
   "file_extension": ".py",
   "mimetype": "text/x-python",
   "name": "python",
   "nbconvert_exporter": "python",
   "pygments_lexer": "ipython3",
   "version": "3.8.10"
  }
 },
 "nbformat": 4,
 "nbformat_minor": 5
}
